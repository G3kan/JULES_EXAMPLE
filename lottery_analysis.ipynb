{
 "cells": [
  {
   "cell_type": "markdown",
   "metadata": {},
   "source": [
    "# Powerball Winning Numbers Analysis"
   ]
  },
  {
   "cell_type": "code",
   "execution_count": null,
   "metadata": {},
   "outputs": [],
   "source": [
    "import pandas as pd\n",
    "import matplotlib.pyplot as plt\n",
    "import seaborn as sns\n",
    "from collections import Counter"
   ]
  },
  {
   "cell_type": "code",
   "execution_count": null,
   "metadata": {},
   "outputs": [],
   "source": [
    "df = pd.read_csv('lottery/Lottery_Powerball_Winning_Numbers__Beginning_2010.csv')\n",
    "df.head()"
   ]
  },
  {
   "cell_type": "code",
   "execution_count": null,
   "metadata": {},
   "outputs": [],
   "source": [
    "df['Winning Numbers'] = df['Winning Numbers'].astype(str)\n",
    "numbers_list = df['Winning Numbers'].str.split().tolist()\n",
    "main_numbers = [item[:-1] for item in numbers_list]\n",
    "powerball_numbers = [item[-1] for item in numbers_list]\n",
    "df['Main_Numbers'] = main_numbers\n",
    "df['Powerball'] = powerball_numbers\n",
    "df.head()"
   ]
  },
  {
   "cell_type": "code",
   "execution_count": null,
   "metadata": {},
   "outputs": [],
   "source": [
    "all_main_numbers = [int(num) for sublist in df['Main_Numbers'] for num in sublist]\n",
    "main_number_counts = Counter(all_main_numbers)\n",
    "common_main_numbers = main_number_counts.most_common(10)\n",
    "print(\"Most common main numbers:\")\n",
    "for num, count in common_main_numbers:\n",
    "    print(f\"{num}: {count} times\")"
   ]
  },
  {
   "cell_type": "code",
   "execution_count": null,
   "metadata": {},
   "outputs": [],
   "source": [
    "plt.figure(figsize=(20, 10))\n",
    "sorted_main_counts = sorted(main_number_counts.items())\n",
    "x_main = [item[0] for item in sorted_main_counts]\n",
    "y_main = [item[1] for item in sorted_main_counts]\n",
    "sns.barplot(x=x_main, y=y_main)\n",
    "plt.title('Frequency Distribution of Main Winning Numbers')\n",
    "plt.xlabel('Winning Number')\n",
    "plt.ylabel('Frequency')\n",
    "plt.xticks(rotation=90)\n",
    "plt.show()"
   ]
  },
  {
   "cell_type": "code",
   "execution_count": null,
   "metadata": {},
   "outputs": [],
   "source": [
    "df['Powerball'] = df['Powerball'].astype(int)\n",
    "powerball_counts = df['Powerball'].value_counts().sort_index()\n",
    "print(\"Most common Powerball numbers:\")\n",
    "print(df['Powerball'].value_counts().head(10))"
   ]
  },
  {
   "cell_type": "code",
   "execution_count": null,
   "metadata": {},
   "outputs": [],
   "source": [
    "plt.figure(figsize=(20, 10))\n",
    "sns.barplot(x=powerball_counts.index, y=powerball_counts.values)\n",
    "plt.title('Frequency Distribution of Powerball Numbers')\n",
    "plt.xlabel('Powerball Number')\n",
    "plt.ylabel('Frequency')\n",
    "plt.xticks(rotation=90)\n",
    "plt.show()"
   ]
  }
 ],
 "metadata": {
  "kernelspec": {
   "display_name": "Python 3",
   "language": "python",
   "name": "python3"
  },
  "language_info": {
   "codemirror_mode": {
    "name": "ipython",
    "version": 3
   },
   "file_extension": ".py",
   "mimetype": "text/x-python",
   "name": "python",
   "nbconvert_exporter": "python",
   "pygments_lexer": "ipython3",
   "version": "3.12.11"
  }
 },
 "nbformat": 4,
 "nbformat_minor": 2
}
